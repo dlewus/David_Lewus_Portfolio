{
 "cells": [
  {
   "cell_type": "markdown",
   "id": "9e1d4ef9",
   "metadata": {},
   "source": [
    "# Cryptocurrency Price Trend Detection Recurrent Neural Network Model\n",
    "This notebook will walkthrough the steps to build a model to predict cryptocurrency price trend\n",
    "\n",
    "**This code is not intended to be financial advice.**\n",
    "\n",
    "**USE AT YOUR OWN RISK**\n",
    "\n",
    "---"
   ]
  },
  {
   "cell_type": "markdown",
   "id": "4abd1924",
   "metadata": {},
   "source": [
    "<a id='outline'></a>\n",
    "## Project Outline\n",
    "1. [Importing Packages](#section1)\n",
    "2. [Load Data](#section2)\n",
    "3. [Add Features and Labels](#section3)\n",
    "4. [Preprocessing for Model](#section4)\n",
    "5. [Model - Long Short Term Memory (LSTM)](#section5)\n",
    "6. [Evaluation](#section6)\n",
    "7. [Predictions](#section7)\n",
    "8. [Save model and scaler](#section8)"
   ]
  },
  {
   "cell_type": "markdown",
   "id": "327cdccb",
   "metadata": {},
   "source": [
    "<a id='section1'></a>\n",
    "### 1. Importing Packages"
   ]
  },
  {
   "cell_type": "code",
   "execution_count": 1,
   "id": "0d57b762",
   "metadata": {},
   "outputs": [],
   "source": [
    "import load_data as ld\n",
    "import indicators as ind\n",
    "import scoring as sc\n",
    "\n",
    "from sklearn.preprocessing import MinMaxScaler\n",
    "from sklearn import metrics\n",
    "\n",
    "import numpy as np\n",
    "import pandas as pd\n",
    "\n",
    "from matplotlib import pyplot as plt\n",
    "%matplotlib inline\n",
    "\n",
    "from datetime import datetime\n",
    "\n",
    "import tensorflow as tf\n",
    "from tensorflow import keras\n",
    "from tensorflow.keras import layers\n",
    "from tensorflow.keras.utils import Sequence\n",
    "from keras import regularizers\n",
    "\n",
    "from tqdm.notebook import tqdm_notebook\n",
    "from tqdm.keras import TqdmCallback\n",
    "\n",
    "import joblib"
   ]
  },
  {
   "cell_type": "markdown",
   "id": "2e16927a",
   "metadata": {},
   "source": [
    "[top](#outline)"
   ]
  },
  {
   "cell_type": "markdown",
   "id": "339ab9ec",
   "metadata": {},
   "source": [
    "<a id='section2'></a>\n",
    "### 2. Load Data"
   ]
  },
  {
   "cell_type": "code",
   "execution_count": 2,
   "id": "f56e15e9",
   "metadata": {},
   "outputs": [],
   "source": [
    "# Load data from SQL database\n",
    "\n",
    "coin = 'ETHUSD'\n",
    "timestamp = '2018-01-01 00:00:00+00:00'\n",
    "timeframe = '1h'\n",
    "\n",
    "bars = ld.load_df_from_date(coin, timeframe, timestamp, messages=False)"
   ]
  },
  {
   "cell_type": "markdown",
   "id": "c6789593",
   "metadata": {},
   "source": [
    "[top](#outline)"
   ]
  },
  {
   "cell_type": "markdown",
   "id": "68506efb",
   "metadata": {},
   "source": [
    "<a id='section3'></a>\n",
    "### 3. Add Features and Labels"
   ]
  },
  {
   "cell_type": "code",
   "execution_count": 3,
   "id": "2587b30b",
   "metadata": {},
   "outputs": [],
   "source": [
    "# Add features\n",
    "\n",
    "bars = ind.add_features(bars)"
   ]
  },
  {
   "cell_type": "code",
   "execution_count": 4,
   "id": "0f267ebc",
   "metadata": {},
   "outputs": [],
   "source": [
    "# Remove excess columns and drop NaNs\n",
    "\n",
    "bars = bars.dropna()\n",
    "\n",
    "to_delete = ['id', 'coin_id',\n",
    "             'high', 'low', 'open',\n",
    "             'close', 'volume'\n",
    "             ]\n",
    "\n",
    "data = bars.drop(to_delete, axis=1)\n",
    "data = data.dropna()"
   ]
  },
  {
   "cell_type": "code",
   "execution_count": 5,
   "id": "4df6d491",
   "metadata": {},
   "outputs": [],
   "source": [
    "# Add labels\n",
    "\n",
    "data ['target'] = ind.targetTrend(bars.close)"
   ]
  },
  {
   "cell_type": "markdown",
   "id": "1c655278",
   "metadata": {},
   "source": [
    "[top](#outline)"
   ]
  },
  {
   "cell_type": "markdown",
   "id": "c6b162d5",
   "metadata": {},
   "source": [
    "<a id='section4'></a>\n",
    "### 4. Preprocessing for Model"
   ]
  },
  {
   "cell_type": "code",
   "execution_count": 6,
   "id": "f6832f68",
   "metadata": {},
   "outputs": [],
   "source": [
    "def preprocessing(\n",
    "    input_df, \n",
    "    N=5, \n",
    "    train_size=0.8, \n",
    "    test_size=0.2):\n",
    "    '''\n",
    "    Returns numpy arrays for model training and validation, and sklearn scaler object\n",
    "    \n",
    "    input_df - DataFrame containing features and labels, label column must be named 'target'\n",
    "    N - int of length of sequence lookback\n",
    "    train_size - float of fraction of data to split into training data\n",
    "    test_size - float of fraction of data to split into testing data\n",
    "    '''\n",
    "    \n",
    "    df = input_df.copy()\n",
    "       \n",
    "    # Split data into features and labels\n",
    "    X = df.drop('target', axis=1)\n",
    "    y = df.target\n",
    "    \n",
    "    # Split into train, val, and test\n",
    "    n = len(input_df)\n",
    "    \n",
    "    X_train = X.iloc[:int(n*train_size)]\n",
    "    X_test = X.iloc[int(n*(1-test_size)):]\n",
    "    \n",
    "    y_train = y.iloc[:int(n*train_size)-N]\n",
    "    y_test = y.iloc[int(n*(1-test_size)):-N]\n",
    "          \n",
    "    # Turn dataframes to numpy arrays\n",
    "    X_train = X_train.to_numpy()\n",
    "    X_test = X_test.to_numpy()\n",
    "    \n",
    "    # Make sequences\n",
    "    X_train_sequences = []\n",
    "    X_test_sequences = []\n",
    "    \n",
    "    for i in range(N, len(X_train)):\n",
    "        \n",
    "        to_append = X_train[i-N:i]       \n",
    "        X_train_sequences.append(to_append)\n",
    "        \n",
    "    for i in range(N, len(X_test)):\n",
    "        \n",
    "        to_append = X_test[i-N:i]\n",
    "        X_test_sequences.append(to_append)\n",
    "                \n",
    "\n",
    "    # Convert to numpy arrays\n",
    "    X_train = np.asarray(X_train_sequences).astype('float32') \n",
    "    X_test = np.asarray(X_test_sequences).astype('float32')\n",
    "    y_train = np.asarray(y_train).astype('float32') \n",
    "    y_test = np.asarray(y_test).astype('float32')\n",
    "    \n",
    "    # Normalize input\n",
    "    scaler = MinMaxScaler()\n",
    "    X_train = scaler.fit_transform(X_train.reshape(-1, X_train.shape[-1])).reshape(X_train.shape)\n",
    "    X_test = scaler.transform(X_test.reshape(-1, X_test.shape[-1])).reshape(X_test.shape)\n",
    "    \n",
    "    return X_train, X_test, y_train, y_test, scaler"
   ]
  },
  {
   "cell_type": "code",
   "execution_count": 7,
   "id": "dfb20245",
   "metadata": {},
   "outputs": [],
   "source": [
    "# Preprocess data\n",
    "\n",
    "X_train, X_test, y_train, y_test, scaler = preprocessing(data)"
   ]
  },
  {
   "cell_type": "markdown",
   "id": "3ee0513c",
   "metadata": {},
   "source": [
    "[top](#outline)"
   ]
  },
  {
   "cell_type": "markdown",
   "id": "4b09b5d2",
   "metadata": {},
   "source": [
    "<a id='section5'></a>\n",
    "### 5. Model - Long Short Term Memory (LSTM)"
   ]
  },
  {
   "cell_type": "code",
   "execution_count": 8,
   "id": "31ecd405",
   "metadata": {},
   "outputs": [],
   "source": [
    "# 3 category labels\n",
    "\n",
    "model = tf.keras.models.Sequential([\n",
    "    layers.LSTM(16,\n",
    "             return_sequences=True,\n",
    "               ),\n",
    "    layers.Dropout(0.4),\n",
    "    layers.LayerNormalization(),\n",
    "\n",
    "    layers.Flatten(),\n",
    "\n",
    "    layers.Dense(3, activation='softmax'),\n",
    "])"
   ]
  },
  {
   "cell_type": "code",
   "execution_count": 9,
   "id": "4bade437",
   "metadata": {},
   "outputs": [],
   "source": [
    "def compile_and_fit(\n",
    "    model, \n",
    "    X_train, \n",
    "    y_train, \n",
    "    X_test, \n",
    "    y_test, \n",
    "    shuffle=False,\n",
    "    patience=3, \n",
    "    MAX_EPOCHS=20, \n",
    "    monitor='val_loss',\n",
    "    checkpoint_monitor='val_accuracy',\n",
    "    learning_rate=1e-4, \n",
    "    decay=1e-6, \n",
    "    verbose=2, \n",
    "    checkpoint_verbose=1):\n",
    "    \n",
    "    '''\n",
    "    Compiles and trains model\n",
    "    \n",
    "    model - keras model object\n",
    "    X_train - numpy array of training features\n",
    "    y_train - numpy array of training labels\n",
    "    X_test - numpy array of testing features\n",
    "    y_test - numpy array of training features\n",
    "    \n",
    "    refer to keras documentation for other options\n",
    "    '''\n",
    "    \n",
    "    early_stopping = tf.keras.callbacks.EarlyStopping(monitor=monitor,\n",
    "                                                    patience=patience,\n",
    "                                                    min_delta=0.0001)\n",
    "    \n",
    "    checkpoint = tf.keras.callbacks.ModelCheckpoint('best_model.h5', \n",
    "                                                    monitor=checkpoint_monitor, \n",
    "                                                    mode='max', \n",
    "                                                    verbose=checkpoint_verbose, \n",
    "                                                    save_best_only=True)\n",
    "\n",
    "    model.compile(\n",
    "        loss='sparse_categorical_crossentropy',\n",
    "        optimizer=tf.keras.optimizers.Adam(learning_rate=learning_rate, decay=decay),\n",
    "        metrics=['accuracy'])\n",
    "    \n",
    "        \n",
    "    history = model.fit(\n",
    "        X_train, \n",
    "        y_train,\n",
    "        epochs=MAX_EPOCHS,\n",
    "        validation_data=(X_test, y_test),\n",
    "        callbacks=[early_stopping, checkpoint, TqdmCallback(verbose=verbose)],\n",
    "        shuffle=shuffle,\n",
    "        verbose=0)\n",
    "\n",
    "    return history"
   ]
  },
  {
   "cell_type": "code",
   "execution_count": 10,
   "id": "e37cfe17",
   "metadata": {},
   "outputs": [
    {
     "data": {
      "application/vnd.jupyter.widget-view+json": {
       "model_id": "560daceb18e14c018ed0499f1ec309ca",
       "version_major": 2,
       "version_minor": 0
      },
      "text/plain": [
       "0epoch [00:00, ?epoch/s]"
      ]
     },
     "metadata": {},
     "output_type": "display_data"
    },
    {
     "data": {
      "application/vnd.jupyter.widget-view+json": {
       "model_id": "1f701f6584744a849d4dd3f216c72870",
       "version_major": 2,
       "version_minor": 0
      },
      "text/plain": [
       "  0%|          | 0.00/1.03k [00:00<?, ?batch/s]"
      ]
     },
     "metadata": {},
     "output_type": "display_data"
    },
    {
     "name": "stdout",
     "output_type": "stream",
     "text": [
      "\n",
      "Epoch 1: val_accuracy improved from -inf to 0.58208, saving model to best_model.h5\n"
     ]
    },
    {
     "data": {
      "application/vnd.jupyter.widget-view+json": {
       "model_id": "bad00efd1124414f94e0b3b902862644",
       "version_major": 2,
       "version_minor": 0
      },
      "text/plain": [
       "  0%|          | 0.00/1.03k [00:00<?, ?batch/s]"
      ]
     },
     "metadata": {},
     "output_type": "display_data"
    },
    {
     "name": "stdout",
     "output_type": "stream",
     "text": [
      "\n",
      "Epoch 2: val_accuracy improved from 0.58208 to 0.60436, saving model to best_model.h5\n"
     ]
    },
    {
     "data": {
      "application/vnd.jupyter.widget-view+json": {
       "model_id": "056f2d26486a4b9b90357007e99af3c9",
       "version_major": 2,
       "version_minor": 0
      },
      "text/plain": [
       "  0%|          | 0.00/1.03k [00:00<?, ?batch/s]"
      ]
     },
     "metadata": {},
     "output_type": "display_data"
    },
    {
     "name": "stdout",
     "output_type": "stream",
     "text": [
      "\n",
      "Epoch 3: val_accuracy improved from 0.60436 to 0.62639, saving model to best_model.h5\n"
     ]
    },
    {
     "data": {
      "application/vnd.jupyter.widget-view+json": {
       "model_id": "11eb8153e5f747a8b8d274a88da00ffe",
       "version_major": 2,
       "version_minor": 0
      },
      "text/plain": [
       "  0%|          | 0.00/1.03k [00:00<?, ?batch/s]"
      ]
     },
     "metadata": {},
     "output_type": "display_data"
    },
    {
     "name": "stdout",
     "output_type": "stream",
     "text": [
      "\n",
      "Epoch 4: val_accuracy improved from 0.62639 to 0.64419, saving model to best_model.h5\n"
     ]
    },
    {
     "data": {
      "application/vnd.jupyter.widget-view+json": {
       "model_id": "b41d3c53fa8e4a74be4f7c8eade5996b",
       "version_major": 2,
       "version_minor": 0
      },
      "text/plain": [
       "  0%|          | 0.00/1.03k [00:00<?, ?batch/s]"
      ]
     },
     "metadata": {},
     "output_type": "display_data"
    },
    {
     "name": "stdout",
     "output_type": "stream",
     "text": [
      "\n",
      "Epoch 5: val_accuracy improved from 0.64419 to 0.65666, saving model to best_model.h5\n"
     ]
    },
    {
     "data": {
      "application/vnd.jupyter.widget-view+json": {
       "model_id": "212db01de56d4015840e0308d0ed99cc",
       "version_major": 2,
       "version_minor": 0
      },
      "text/plain": [
       "  0%|          | 0.00/1.03k [00:00<?, ?batch/s]"
      ]
     },
     "metadata": {},
     "output_type": "display_data"
    },
    {
     "name": "stdout",
     "output_type": "stream",
     "text": [
      "\n",
      "Epoch 6: val_accuracy improved from 0.65666 to 0.66610, saving model to best_model.h5\n"
     ]
    },
    {
     "data": {
      "application/vnd.jupyter.widget-view+json": {
       "model_id": "f3322584f7844f91b34c0db580b70a20",
       "version_major": 2,
       "version_minor": 0
      },
      "text/plain": [
       "  0%|          | 0.00/1.03k [00:00<?, ?batch/s]"
      ]
     },
     "metadata": {},
     "output_type": "display_data"
    },
    {
     "name": "stdout",
     "output_type": "stream",
     "text": [
      "\n",
      "Epoch 7: val_accuracy improved from 0.66610 to 0.67615, saving model to best_model.h5\n"
     ]
    },
    {
     "data": {
      "application/vnd.jupyter.widget-view+json": {
       "model_id": "44e665b616f64ec19c0f1d9a5ad486da",
       "version_major": 2,
       "version_minor": 0
      },
      "text/plain": [
       "  0%|          | 0.00/1.03k [00:00<?, ?batch/s]"
      ]
     },
     "metadata": {},
     "output_type": "display_data"
    },
    {
     "name": "stdout",
     "output_type": "stream",
     "text": [
      "\n",
      "Epoch 8: val_accuracy improved from 0.67615 to 0.68523, saving model to best_model.h5\n"
     ]
    },
    {
     "data": {
      "application/vnd.jupyter.widget-view+json": {
       "model_id": "e17487638ad14ceda0f35c682bdf43f5",
       "version_major": 2,
       "version_minor": 0
      },
      "text/plain": [
       "  0%|          | 0.00/1.03k [00:00<?, ?batch/s]"
      ]
     },
     "metadata": {},
     "output_type": "display_data"
    },
    {
     "name": "stdout",
     "output_type": "stream",
     "text": [
      "\n",
      "Epoch 9: val_accuracy improved from 0.68523 to 0.69128, saving model to best_model.h5\n"
     ]
    },
    {
     "data": {
      "application/vnd.jupyter.widget-view+json": {
       "model_id": "c74f4827f7b04a19818dafd1763b04a9",
       "version_major": 2,
       "version_minor": 0
      },
      "text/plain": [
       "  0%|          | 0.00/1.03k [00:00<?, ?batch/s]"
      ]
     },
     "metadata": {},
     "output_type": "display_data"
    },
    {
     "name": "stdout",
     "output_type": "stream",
     "text": [
      "\n",
      "Epoch 10: val_accuracy improved from 0.69128 to 0.69697, saving model to best_model.h5\n"
     ]
    },
    {
     "data": {
      "application/vnd.jupyter.widget-view+json": {
       "model_id": "f57bfd8dcda6448cbafd44b9215e8639",
       "version_major": 2,
       "version_minor": 0
      },
      "text/plain": [
       "  0%|          | 0.00/1.03k [00:00<?, ?batch/s]"
      ]
     },
     "metadata": {},
     "output_type": "display_data"
    },
    {
     "name": "stdout",
     "output_type": "stream",
     "text": [
      "\n",
      "Epoch 11: val_accuracy did not improve from 0.69697\n"
     ]
    },
    {
     "data": {
      "application/vnd.jupyter.widget-view+json": {
       "model_id": "6962e8c77d0648aba540e5b78373a966",
       "version_major": 2,
       "version_minor": 0
      },
      "text/plain": [
       "  0%|          | 0.00/1.03k [00:00<?, ?batch/s]"
      ]
     },
     "metadata": {},
     "output_type": "display_data"
    },
    {
     "name": "stdout",
     "output_type": "stream",
     "text": [
      "\n",
      "Epoch 12: val_accuracy improved from 0.69697 to 0.70000, saving model to best_model.h5\n"
     ]
    }
   ],
   "source": [
    "history = compile_and_fit(\n",
    "    model, \n",
    "    X_train, \n",
    "    y_train, \n",
    "    X_test,\n",
    "    y_test)"
   ]
  },
  {
   "cell_type": "code",
   "execution_count": 11,
   "id": "ebab1d33",
   "metadata": {},
   "outputs": [],
   "source": [
    "# Load best model\n",
    "\n",
    "model = keras.models.load_model('best_model.h5')"
   ]
  },
  {
   "cell_type": "markdown",
   "id": "6be8e45f",
   "metadata": {},
   "source": [
    "[top](#outline)"
   ]
  },
  {
   "cell_type": "markdown",
   "id": "4becd794",
   "metadata": {},
   "source": [
    "<a id='section6'></a>\n",
    "### 6. Evaluation"
   ]
  },
  {
   "cell_type": "code",
   "execution_count": 12,
   "id": "0cb7d517",
   "metadata": {},
   "outputs": [
    {
     "data": {
      "image/png": "[encoded data removed]",
      "text/plain": [
       "<Figure size 432x288 with 1 Axes>"
      ]
     },
     "metadata": {
      "needs_background": "light"
     },
     "output_type": "display_data"
    }
   ],
   "source": [
    "# Training vs Validation loss\n",
    "\n",
    "loss = history.history['accuracy']\n",
    "val_loss = history.history['val_accuracy']\n",
    "\n",
    "epochs = range(len(loss))\n",
    "\n",
    "plt.figure()\n",
    "\n",
    "plt.plot(epochs, loss, 'bo', label='Training loss')\n",
    "plt.plot(epochs, val_loss, 'b', label='Validation loss')\n",
    "plt.title('Training and validation loss')\n",
    "plt.legend()\n",
    "\n",
    "plt.show()"
   ]
  },
  {
   "cell_type": "code",
   "execution_count": 13,
   "id": "2201c63b",
   "metadata": {},
   "outputs": [],
   "source": [
    "def perturbation_rank(\n",
    "    model,\n",
    "    x,\n",
    "    y,\n",
    "    names):\n",
    "    \n",
    "    '''\n",
    "    Describes amount of error generated by randomly shuffling a single feature\n",
    "    The features with greater error describe the features with highest importance\n",
    "    \n",
    "    model - keras trained model\n",
    "    x - numpy array of features\n",
    "    y - numpy array of labels\n",
    "    names - list of feature column names\n",
    "    \n",
    "    source: https://medium.com/coinmonks/crypto-feature-importance-for-deep-reinforcement-learning-38416616c2a36-8416616c2a36\n",
    "    '''\n",
    "    \n",
    "    errors = []\n",
    "\n",
    "    X_saved = np.copy(x)\n",
    "    \n",
    "    for i in tqdm_notebook(range(x.shape[2])):\n",
    "\n",
    "        # Convert to numpy, shuffle, convert back to tensor, predict\n",
    "        np.random.shuffle(x[:,:,i])\n",
    "        pred = model.predict(x, verbose=0)\n",
    "\n",
    "        # log_loss requires (classification target, probabilities)\n",
    "        error = metrics.log_loss(y, pred)\n",
    "        errors.append(error)\n",
    "\n",
    "        # Reset x to saved tensor matrix\n",
    "        x = X_saved\n",
    "    \n",
    "    max_error = np.max(errors)\n",
    "    importance = [e/max_error for e in errors]\n",
    "    \n",
    "    data = {'name':names,'error':errors,'importance':importance}\n",
    "    result = pd.DataFrame(data,columns = ['name','error','importance'])\n",
    "    result.sort_values(by=['importance'],ascending=[0],inplace=True)\n",
    "    result.reset_index(inplace=True,drop=True)\n",
    "    return result"
   ]
  },
  {
   "cell_type": "code",
   "execution_count": 14,
   "id": "d36e4c6d",
   "metadata": {},
   "outputs": [
    {
     "data": {
      "application/vnd.jupyter.widget-view+json": {
       "model_id": "c02f0c5c8c3244caa6b9e0360bd57606",
       "version_major": 2,
       "version_minor": 0
      },
      "text/plain": [
       "  0%|          | 0/38 [00:00<?, ?it/s]"
      ]
     },
     "metadata": {},
     "output_type": "display_data"
    },
    {
     "data": {
      "text/html": [
       "<div>\n",
       "<style scoped>\n",
       "    .dataframe tbody tr th:only-of-type {\n",
       "        vertical-align: middle;\n",
       "    }\n",
       "\n",
       "    .dataframe tbody tr th {\n",
       "        vertical-align: top;\n",
       "    }\n",
       "\n",
       "    .dataframe thead th {\n",
       "        text-align: right;\n",
       "    }\n",
       "</style>\n",
       "<table border=\"1\" class=\"dataframe\">\n",
       "  <thead>\n",
       "    <tr style=\"text-align: right;\">\n",
       "      <th></th>\n",
       "      <th>name</th>\n",
       "      <th>error</th>\n",
       "      <th>importance</th>\n",
       "    </tr>\n",
       "  </thead>\n",
       "  <tbody>\n",
       "    <tr>\n",
       "      <th>0</th>\n",
       "      <td>percent_diff_3</td>\n",
       "      <td>2.093944</td>\n",
       "      <td>1.000000</td>\n",
       "    </tr>\n",
       "    <tr>\n",
       "      <th>1</th>\n",
       "      <td>supertrend_direction</td>\n",
       "      <td>2.093938</td>\n",
       "      <td>0.999997</td>\n",
       "    </tr>\n",
       "    <tr>\n",
       "      <th>2</th>\n",
       "      <td>percent_diff_1</td>\n",
       "      <td>2.089561</td>\n",
       "      <td>0.997907</td>\n",
       "    </tr>\n",
       "    <tr>\n",
       "      <th>3</th>\n",
       "      <td>percent_diff_2</td>\n",
       "      <td>2.087396</td>\n",
       "      <td>0.996873</td>\n",
       "    </tr>\n",
       "    <tr>\n",
       "      <th>4</th>\n",
       "      <td>percent_diff_4</td>\n",
       "      <td>2.083293</td>\n",
       "      <td>0.994913</td>\n",
       "    </tr>\n",
       "    <tr>\n",
       "      <th>5</th>\n",
       "      <td>supertrend_ratio</td>\n",
       "      <td>2.079099</td>\n",
       "      <td>0.992910</td>\n",
       "    </tr>\n",
       "    <tr>\n",
       "      <th>6</th>\n",
       "      <td>price_cross_ZLMA55</td>\n",
       "      <td>2.076110</td>\n",
       "      <td>0.991483</td>\n",
       "    </tr>\n",
       "    <tr>\n",
       "      <th>7</th>\n",
       "      <td>percent_diff_5</td>\n",
       "      <td>2.059105</td>\n",
       "      <td>0.983362</td>\n",
       "    </tr>\n",
       "    <tr>\n",
       "      <th>8</th>\n",
       "      <td>percent_diff_6</td>\n",
       "      <td>2.043818</td>\n",
       "      <td>0.976062</td>\n",
       "    </tr>\n",
       "    <tr>\n",
       "      <th>9</th>\n",
       "      <td>percent_diff_7</td>\n",
       "      <td>2.042646</td>\n",
       "      <td>0.975502</td>\n",
       "    </tr>\n",
       "    <tr>\n",
       "      <th>10</th>\n",
       "      <td>percent_diff_8</td>\n",
       "      <td>2.037469</td>\n",
       "      <td>0.973029</td>\n",
       "    </tr>\n",
       "    <tr>\n",
       "      <th>11</th>\n",
       "      <td>percent_diff_9</td>\n",
       "      <td>2.030654</td>\n",
       "      <td>0.969775</td>\n",
       "    </tr>\n",
       "    <tr>\n",
       "      <th>12</th>\n",
       "      <td>price_cross_ZLMA21</td>\n",
       "      <td>2.016298</td>\n",
       "      <td>0.962919</td>\n",
       "    </tr>\n",
       "    <tr>\n",
       "      <th>13</th>\n",
       "      <td>price_cross_ZLMA8</td>\n",
       "      <td>1.890393</td>\n",
       "      <td>0.902791</td>\n",
       "    </tr>\n",
       "    <tr>\n",
       "      <th>14</th>\n",
       "      <td>price_cross_EMA55</td>\n",
       "      <td>1.686056</td>\n",
       "      <td>0.805206</td>\n",
       "    </tr>\n",
       "    <tr>\n",
       "      <th>15</th>\n",
       "      <td>price_cross_EMA21</td>\n",
       "      <td>1.669516</td>\n",
       "      <td>0.797307</td>\n",
       "    </tr>\n",
       "    <tr>\n",
       "      <th>16</th>\n",
       "      <td>price_cross_EMA8</td>\n",
       "      <td>1.645136</td>\n",
       "      <td>0.785664</td>\n",
       "    </tr>\n",
       "    <tr>\n",
       "      <th>17</th>\n",
       "      <td>price_cross_SMA50</td>\n",
       "      <td>1.603833</td>\n",
       "      <td>0.765939</td>\n",
       "    </tr>\n",
       "    <tr>\n",
       "      <th>18</th>\n",
       "      <td>price_cross_SMA20</td>\n",
       "      <td>1.582728</td>\n",
       "      <td>0.755860</td>\n",
       "    </tr>\n",
       "    <tr>\n",
       "      <th>19</th>\n",
       "      <td>price_cross_SMA10</td>\n",
       "      <td>1.565258</td>\n",
       "      <td>0.747517</td>\n",
       "    </tr>\n",
       "    <tr>\n",
       "      <th>20</th>\n",
       "      <td>below_ZLMA55</td>\n",
       "      <td>1.544060</td>\n",
       "      <td>0.737393</td>\n",
       "    </tr>\n",
       "    <tr>\n",
       "      <th>21</th>\n",
       "      <td>below_ZLMA21</td>\n",
       "      <td>1.525342</td>\n",
       "      <td>0.728454</td>\n",
       "    </tr>\n",
       "    <tr>\n",
       "      <th>22</th>\n",
       "      <td>below_ZLMA8</td>\n",
       "      <td>1.330976</td>\n",
       "      <td>0.635631</td>\n",
       "    </tr>\n",
       "    <tr>\n",
       "      <th>23</th>\n",
       "      <td>below_EMA55</td>\n",
       "      <td>0.737694</td>\n",
       "      <td>0.352299</td>\n",
       "    </tr>\n",
       "    <tr>\n",
       "      <th>24</th>\n",
       "      <td>below_EMA21</td>\n",
       "      <td>0.737029</td>\n",
       "      <td>0.351981</td>\n",
       "    </tr>\n",
       "    <tr>\n",
       "      <th>25</th>\n",
       "      <td>below_EMA8</td>\n",
       "      <td>0.712854</td>\n",
       "      <td>0.340436</td>\n",
       "    </tr>\n",
       "    <tr>\n",
       "      <th>26</th>\n",
       "      <td>below_SMA50</td>\n",
       "      <td>0.679566</td>\n",
       "      <td>0.324539</td>\n",
       "    </tr>\n",
       "    <tr>\n",
       "      <th>27</th>\n",
       "      <td>below_SMA20</td>\n",
       "      <td>0.674294</td>\n",
       "      <td>0.322021</td>\n",
       "    </tr>\n",
       "    <tr>\n",
       "      <th>28</th>\n",
       "      <td>ZLMA55</td>\n",
       "      <td>0.670686</td>\n",
       "      <td>0.320298</td>\n",
       "    </tr>\n",
       "    <tr>\n",
       "      <th>29</th>\n",
       "      <td>ZLMA21</td>\n",
       "      <td>0.670471</td>\n",
       "      <td>0.320195</td>\n",
       "    </tr>\n",
       "    <tr>\n",
       "      <th>30</th>\n",
       "      <td>ZLMA8</td>\n",
       "      <td>0.670440</td>\n",
       "      <td>0.320180</td>\n",
       "    </tr>\n",
       "    <tr>\n",
       "      <th>31</th>\n",
       "      <td>SMA20</td>\n",
       "      <td>0.670356</td>\n",
       "      <td>0.320140</td>\n",
       "    </tr>\n",
       "    <tr>\n",
       "      <th>32</th>\n",
       "      <td>EMA21</td>\n",
       "      <td>0.669931</td>\n",
       "      <td>0.319937</td>\n",
       "    </tr>\n",
       "    <tr>\n",
       "      <th>33</th>\n",
       "      <td>SMA50</td>\n",
       "      <td>0.669909</td>\n",
       "      <td>0.319927</td>\n",
       "    </tr>\n",
       "    <tr>\n",
       "      <th>34</th>\n",
       "      <td>EMA8</td>\n",
       "      <td>0.669711</td>\n",
       "      <td>0.319832</td>\n",
       "    </tr>\n",
       "    <tr>\n",
       "      <th>35</th>\n",
       "      <td>SMA10</td>\n",
       "      <td>0.669528</td>\n",
       "      <td>0.319745</td>\n",
       "    </tr>\n",
       "    <tr>\n",
       "      <th>36</th>\n",
       "      <td>EMA55</td>\n",
       "      <td>0.669152</td>\n",
       "      <td>0.319566</td>\n",
       "    </tr>\n",
       "    <tr>\n",
       "      <th>37</th>\n",
       "      <td>below_SMA10</td>\n",
       "      <td>0.669075</td>\n",
       "      <td>0.319529</td>\n",
       "    </tr>\n",
       "  </tbody>\n",
       "</table>\n",
       "</div>"
      ],
      "text/plain": [
       "                    name     error  importance\n",
       "0         percent_diff_3  2.093944    1.000000\n",
       "1   supertrend_direction  2.093938    0.999997\n",
       "2         percent_diff_1  2.089561    0.997907\n",
       "3         percent_diff_2  2.087396    0.996873\n",
       "4         percent_diff_4  2.083293    0.994913\n",
       "5       supertrend_ratio  2.079099    0.992910\n",
       "6     price_cross_ZLMA55  2.076110    0.991483\n",
       "7         percent_diff_5  2.059105    0.983362\n",
       "8         percent_diff_6  2.043818    0.976062\n",
       "9         percent_diff_7  2.042646    0.975502\n",
       "10        percent_diff_8  2.037469    0.973029\n",
       "11        percent_diff_9  2.030654    0.969775\n",
       "12    price_cross_ZLMA21  2.016298    0.962919\n",
       "13     price_cross_ZLMA8  1.890393    0.902791\n",
       "14     price_cross_EMA55  1.686056    0.805206\n",
       "15     price_cross_EMA21  1.669516    0.797307\n",
       "16      price_cross_EMA8  1.645136    0.785664\n",
       "17     price_cross_SMA50  1.603833    0.765939\n",
       "18     price_cross_SMA20  1.582728    0.755860\n",
       "19     price_cross_SMA10  1.565258    0.747517\n",
       "20          below_ZLMA55  1.544060    0.737393\n",
       "21          below_ZLMA21  1.525342    0.728454\n",
       "22           below_ZLMA8  1.330976    0.635631\n",
       "23           below_EMA55  0.737694    0.352299\n",
       "24           below_EMA21  0.737029    0.351981\n",
       "25            below_EMA8  0.712854    0.340436\n",
       "26           below_SMA50  0.679566    0.324539\n",
       "27           below_SMA20  0.674294    0.322021\n",
       "28                ZLMA55  0.670686    0.320298\n",
       "29                ZLMA21  0.670471    0.320195\n",
       "30                 ZLMA8  0.670440    0.320180\n",
       "31                 SMA20  0.670356    0.320140\n",
       "32                 EMA21  0.669931    0.319937\n",
       "33                 SMA50  0.669909    0.319927\n",
       "34                  EMA8  0.669711    0.319832\n",
       "35                 SMA10  0.669528    0.319745\n",
       "36                 EMA55  0.669152    0.319566\n",
       "37           below_SMA10  0.669075    0.319529"
      ]
     },
     "metadata": {},
     "output_type": "display_data"
    }
   ],
   "source": [
    "# Generate perturbation ranks\n",
    "\n",
    "names = list(data.columns)\n",
    "names.remove('target')\n",
    "    \n",
    "rank = perturbation_rank(\n",
    "    model, \n",
    "    X_test,\n",
    "    y_test,  \n",
    "    names)\n",
    "\n",
    "display(rank)"
   ]
  },
  {
   "cell_type": "markdown",
   "id": "c9446dce",
   "metadata": {},
   "source": [
    "[top](#outline)"
   ]
  },
  {
   "cell_type": "markdown",
   "id": "c5fdd566",
   "metadata": {},
   "source": [
    "<a id='section7'></a>\n",
    "### 7. Predictions"
   ]
  },
  {
   "cell_type": "code",
   "execution_count": 15,
   "id": "a7154d61",
   "metadata": {},
   "outputs": [],
   "source": [
    "def predictions_df(model, X_test, input_df, N=0):\n",
    "    '''\n",
    "    Returns DataFrame of predictions and actions from keras model\n",
    "    \n",
    "    model - trained keras model\n",
    "    X_test - numpy array of features\n",
    "    input_df - DataFrame with timeseries index and candlestick data\n",
    "    N - int of length of sequence lookback\n",
    "    '''\n",
    "    predictions = model.predict(X_test)\n",
    "\n",
    "    final_predictions = []\n",
    "    for i, value in enumerate(predictions):\n",
    "        final_predictions.append(np.argmax(predictions[i]))\n",
    "    if N > 1:\n",
    "        predictions = pd.Series(final_predictions, index=input_df.index[-(len(final_predictions))-(N-1):-(N-1)])\n",
    "    else:\n",
    "        predictions = pd.Series(final_predictions, index=input_df.index[-(len(final_predictions)):])\n",
    "    #predictions = pd.Series(final_predictions, index=input_df.index[-(len(final_predictions)):])\n",
    "    df = input_df[-len(predictions):].copy()\n",
    "    df.loc[:,'target'] = predictions.copy()\n",
    "    df.loc[:,'action'] = (df.target.shift(1) != df.target)\n",
    "    \n",
    "    return df"
   ]
  },
  {
   "cell_type": "code",
   "execution_count": 16,
   "id": "3da600f3",
   "metadata": {
    "scrolled": true
   },
   "outputs": [
    {
     "name": "stdout",
     "output_type": "stream",
     "text": [
      "259/259 [==============================] - 1s 3ms/step\n"
     ]
    }
   ],
   "source": [
    "# Generate dataframe of predictions and actions\n",
    "\n",
    "df = predictions_df(model, X_test, bars, N=5)"
   ]
  },
  {
   "cell_type": "code",
   "execution_count": 17,
   "id": "663e7c38",
   "metadata": {
    "scrolled": false
   },
   "outputs": [],
   "source": [
    "def plot(\n",
    "    df, \n",
    "    start, \n",
    "    stop, \n",
    "    close='close', \n",
    "    sell_target=0, \n",
    "    hold_target=1, \n",
    "    buy_target=2,\n",
    "    hold_size=5):\n",
    "    \n",
    "    '''\n",
    "    Plots visualization of predicted labels\n",
    "    \n",
    "    df - DataFrame containing predicted labels\n",
    "    start - int of start index\n",
    "    stop - int of stop index\n",
    "    close - str of price column to plot\n",
    "    sell_target - int of downtrend label\n",
    "    hold_target - int of no trend label\n",
    "    buy_target - int of uptrend label\n",
    "    hold_size - int of size for no trend label\n",
    "    '''\n",
    "\n",
    "        \n",
    "    plot_df = pd.DataFrame(\n",
    "        {'close': df[close][start:stop],\n",
    "         'target': df.target[start:stop], \n",
    "        },\n",
    "         index=df.index[start:stop])\n",
    "        \n",
    "    # Dict to assign color\n",
    "    cdict = {sell_target: 'red', hold_target: 'black', buy_target: 'green'}\n",
    "\n",
    "    # Initialize plot\n",
    "    plt.rcParams['figure.figsize'] = [15, 7]\n",
    "    fig, ax = plt.subplots()\n",
    "\n",
    "    # Plot the closing price as a line\n",
    "    ax.plot(plot_df.index, plot_df.close, c='black', zorder=-1)\n",
    "\n",
    "    # Color code where you would be buying vs selling\n",
    "    for g in np.unique(plot_df.target):\n",
    "        \n",
    "        if np.isnan(g):\n",
    "            continue\n",
    "            \n",
    "        elif g == hold_target:\n",
    "            ax.scatter(\n",
    "                plot_df.index[plot_df.target == g],\n",
    "                plot_df.close[plot_df.target == g],\n",
    "                c=cdict[g], label=g, s=hold_size, zorder=1)\n",
    "        else:\n",
    "            ax.scatter(\n",
    "                plot_df.index[plot_df.target == g],\n",
    "                plot_df.close[plot_df.target == g],\n",
    "                c=cdict[g], label=g, s=15, zorder=1)\n",
    "            \n",
    "    ax.legend()\n",
    "\n",
    "    ax.grid()\n",
    "\n",
    "    plt.show()"
   ]
  },
  {
   "cell_type": "code",
   "execution_count": 18,
   "id": "c0afb700",
   "metadata": {
    "scrolled": false
   },
   "outputs": [
    {
     "data": {
      "image/png": "[encoded data removed]",
      "text/plain": [
       "<Figure size 1080x504 with 1 Axes>"
      ]
     },
     "metadata": {
      "needs_background": "light"
     },
     "output_type": "display_data"
    }
   ],
   "source": [
    "start = -100\n",
    "stop = None\n",
    "\n",
    "plot(\n",
    "    df, \n",
    "    start, \n",
    "    stop, \n",
    "    hold_size=10)"
   ]
  },
  {
   "cell_type": "code",
   "execution_count": 19,
   "id": "24e237c8",
   "metadata": {
    "scrolled": true
   },
   "outputs": [
    {
     "data": {
      "application/vnd.jupyter.widget-view+json": {
       "model_id": "315fd71f0b904f13b500a76c272f6b06",
       "version_major": 2,
       "version_minor": 0
      },
      "text/plain": [
       "  0%|          | 0/10 [00:00<?, ?it/s]"
      ]
     },
     "metadata": {},
     "output_type": "display_data"
    },
    {
     "name": "stdout",
     "output_type": "stream",
     "text": [
      "{'balance': 9868.29, 'moves': 191, 'win_percent': 39.79, 'sl_count': 0, 'tp_count': 1, 'signal_exit_count': 190, 'sl': 1.0, 'tp': 0.1, 'trade_risk': 0.1, 'start': datetime.datetime(2022, 9, 1, 0, 0, tzinfo=datetime.timezone.utc)}\n"
     ]
    },
    {
     "data": {
      "application/vnd.jupyter.widget-view+json": {
       "model_id": "14531b7313dc4846bd80eff89556cd76",
       "version_major": 2,
       "version_minor": 0
      },
      "text/plain": [
       "  0%|          | 0/10 [00:00<?, ?it/s]"
      ]
     },
     "metadata": {},
     "output_type": "display_data"
    },
    {
     "name": "stdout",
     "output_type": "stream",
     "text": [
      "{'balance': 64357.58, 'moves': 191, 'win_percent': 50.26, 'sl_count': 0, 'tp_count': 44, 'signal_exit_count': 147, 'sl': 1.0, 'tp': 0.1, 'trade_risk': 1.0, 'start': datetime.datetime(2022, 9, 1, 0, 0, tzinfo=datetime.timezone.utc)}\n"
     ]
    },
    {
     "data": {
      "application/vnd.jupyter.widget-view+json": {
       "model_id": "f6e3d6f55e564997bbeb467785206e02",
       "version_major": 2,
       "version_minor": 0
      },
      "text/plain": [
       "  0%|          | 0/10 [00:00<?, ?it/s]"
      ]
     },
     "metadata": {},
     "output_type": "display_data"
    },
    {
     "name": "stdout",
     "output_type": "stream",
     "text": [
      "{'balance': 793284.56, 'moves': 191, 'win_percent': 68.59, 'sl_count': 0, 'tp_count': 104, 'signal_exit_count': 87, 'sl': 1.0, 'tp': 0.1, 'trade_risk': 1.0, 'start': datetime.datetime(2022, 9, 1, 0, 0, tzinfo=datetime.timezone.utc)}\n"
     ]
    }
   ],
   "source": [
    "# Find best trading parameters\n",
    "\n",
    "#start = df.index[0]\n",
    "start = datetime.fromisoformat('2022-09-01 00:00:00+00:00')\n",
    "N=5\n",
    "minutes=60\n",
    "\n",
    "for leverage in [1, 5, 10]:\n",
    "    fee = leverage * 0.002\n",
    "    best = sc.bestRisk(\n",
    "        df=df, \n",
    "        start=start, \n",
    "        fee=fee, \n",
    "        leverage=leverage, \n",
    "        N=minutes*(N-1),\n",
    "        buy_target=2,\n",
    "        sell_target=0,\n",
    "        hold_target=1)\n",
    "    print(best)"
   ]
  },
  {
   "cell_type": "markdown",
   "id": "58e777fd",
   "metadata": {},
   "source": [
    "[top](#outline)"
   ]
  },
  {
   "cell_type": "markdown",
   "id": "27b4af56",
   "metadata": {},
   "source": [
    "<a id='section8'></a>\n",
    "### 8. Save model and scaler"
   ]
  },
  {
   "cell_type": "code",
   "execution_count": 20,
   "id": "1d2ab649",
   "metadata": {},
   "outputs": [],
   "source": [
    "path = 'model.h5'\n",
    "model.save(path)"
   ]
  },
  {
   "cell_type": "code",
   "execution_count": 21,
   "id": "064818b2",
   "metadata": {},
   "outputs": [
    {
     "data": {
      "text/plain": [
       "['scaler.h5']"
      ]
     },
     "execution_count": 21,
     "metadata": {},
     "output_type": "execute_result"
    }
   ],
   "source": [
    "scaler_path = 'scaler.h5'\n",
    "joblib.dump(scaler, scaler_path)"
   ]
  },
  {
   "cell_type": "markdown",
   "id": "ca443e83",
   "metadata": {},
   "source": [
    "[top](#outline)"
   ]
  }
 ],
 "metadata": {
  "kernelspec": {
   "display_name": "Python 3 (ipykernel)",
   "language": "python",
   "name": "python3"
  },
  "language_info": {
   "codemirror_mode": {
    "name": "ipython",
    "version": 3
   },
   "file_extension": ".py",
   "mimetype": "text/x-python",
   "name": "python",
   "nbconvert_exporter": "python",
   "pygments_lexer": "ipython3",
   "version": "3.9.0"
  }
 },
 "nbformat": 4,
 "nbformat_minor": 5
}
